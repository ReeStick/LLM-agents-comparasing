{
 "cells": [
  {
   "cell_type": "code",
   "execution_count": 1,
   "metadata": {},
   "outputs": [
    {
     "name": "stdout",
     "output_type": "stream",
     "text": [
      "Using device: cuda\n"
     ]
    }
   ],
   "source": [
    "import torch\n",
    "from datasets import load_dataset\n",
    "from transformers import AutoTokenizer, AutoModelForCausalLM\n",
    "from bert_score import score as bert_score\n",
    "from nltk.translate.bleu_score import sentence_bleu, SmoothingFunction\n",
    "from rouge import Rouge\n",
    "import matplotlib.pyplot as plt\n",
    "import random\n",
    "import numpy as np\n",
    "\n",
    "# Constants\n",
    "SEED = 42\n",
    "DATASET_FRACTION = 50\n",
    "MODEL_NAME = \"Qwen/Qwen3-14B\"\n",
    "random.seed(SEED)\n",
    "torch.manual_seed(SEED)\n",
    "np.random.seed(SEED)\n",
    "\n",
    "device = torch.device(\"cuda\" if torch.cuda.is_available() else \"cpu\")\n",
    "print(f\"Using device: {device}\")\n",
    "if str(device) == 'cpu':\n",
    "    raise RuntimeError('Device in use is not cuda')"
   ]
  },
  {
   "cell_type": "code",
   "execution_count": 2,
   "metadata": {},
   "outputs": [
    {
     "name": "stdout",
     "output_type": "stream",
     "text": [
      "Loading datasets...\n"
     ]
    }
   ],
   "source": [
    "# Preprocessing\n",
    "print(\"Loading datasets...\")\n",
    "data = []\n",
    "tasks = {\n",
    "    \"squad_v2\": load_dataset(\"squad_v2\", split=f\"validation[:{DATASET_FRACTION}]\").shuffle(seed=SEED),\n",
    "    \"ag_news\": load_dataset(\"ag_news\", split=f\"test[:{DATASET_FRACTION}]\").shuffle(seed=SEED),\n",
    "    \"snli\": load_dataset(\"snli\", split=f\"validation[:{DATASET_FRACTION}]\").shuffle(seed=SEED),\n",
    "    \"trec\": load_dataset(\"trec\", split=f\"test[:{DATASET_FRACTION}]\", trust_remote_code=True).shuffle(seed=SEED),\n",
    "    \"wmt14\": load_dataset(\"wmt14\", \"de-en\", split=f\"test[:{DATASET_FRACTION}]\").shuffle(seed=SEED)\n",
    "}\n",
    "\n",
    "unified_data = {}\n",
    "\n",
    "for name, dataset in tasks.items():\n",
    "    dataset_entries = []\n",
    "    for example in dataset:\n",
    "        if name == \"squad_v2\" and example[\"answers\"][\"text\"]:\n",
    "            dataset_entries.append({\"question\": example[\"question\"], \"context\": example[\"context\"], \"answer\": example[\"answers\"][\"text\"][0]})\n",
    "        elif name == \"ag_news\":\n",
    "            dataset_entries.append({\"question\": example[\"text\"], \"context\": example[\"text\"], \"answer\": str(example[\"label\"])})\n",
    "        elif name == \"snli\" and example[\"label\"] != -1:\n",
    "            dataset_entries.append({\"question\": example[\"premise\"], \"context\": example[\"hypothesis\"], \"answer\": str(example[\"label\"])})\n",
    "        elif name == \"trec\":\n",
    "            dataset_entries.append({\"question\": example[\"text\"], \"context\": example[\"text\"], \"answer\": str(example[\"coarse_label\"])})\n",
    "        elif name == \"wmt14\":\n",
    "            dataset_entries.append({\"question\": example[\"translation\"][\"de\"], \"context\": example[\"translation\"][\"de\"], \"answer\": example[\"translation\"][\"en\"]})\n",
    "    unified_data[name] = dataset_entries"
   ]
  },
  {
   "cell_type": "code",
   "execution_count": 3,
   "metadata": {},
   "outputs": [
    {
     "data": {
      "application/vnd.jupyter.widget-view+json": {
       "model_id": "32b12b2aeea4483c982e42afc2434949",
       "version_major": 2,
       "version_minor": 0
      },
      "text/plain": [
       "Loading checkpoint shards:   0%|          | 0/8 [00:00<?, ?it/s]"
      ]
     },
     "metadata": {},
     "output_type": "display_data"
    },
    {
     "data": {
      "text/plain": [
       "Qwen3ForCausalLM(\n",
       "  (model): Qwen3Model(\n",
       "    (embed_tokens): Embedding(151936, 5120)\n",
       "    (layers): ModuleList(\n",
       "      (0-39): 40 x Qwen3DecoderLayer(\n",
       "        (self_attn): Qwen3Attention(\n",
       "          (q_proj): Linear(in_features=5120, out_features=5120, bias=False)\n",
       "          (k_proj): Linear(in_features=5120, out_features=1024, bias=False)\n",
       "          (v_proj): Linear(in_features=5120, out_features=1024, bias=False)\n",
       "          (o_proj): Linear(in_features=5120, out_features=5120, bias=False)\n",
       "          (q_norm): Qwen3RMSNorm((128,), eps=1e-06)\n",
       "          (k_norm): Qwen3RMSNorm((128,), eps=1e-06)\n",
       "        )\n",
       "        (mlp): Qwen3MLP(\n",
       "          (gate_proj): Linear(in_features=5120, out_features=17408, bias=False)\n",
       "          (up_proj): Linear(in_features=5120, out_features=17408, bias=False)\n",
       "          (down_proj): Linear(in_features=17408, out_features=5120, bias=False)\n",
       "          (act_fn): SiLU()\n",
       "        )\n",
       "        (input_layernorm): Qwen3RMSNorm((5120,), eps=1e-06)\n",
       "        (post_attention_layernorm): Qwen3RMSNorm((5120,), eps=1e-06)\n",
       "      )\n",
       "    )\n",
       "    (norm): Qwen3RMSNorm((5120,), eps=1e-06)\n",
       "    (rotary_emb): Qwen3RotaryEmbedding()\n",
       "  )\n",
       "  (lm_head): Linear(in_features=5120, out_features=151936, bias=False)\n",
       ")"
      ]
     },
     "execution_count": 3,
     "metadata": {},
     "output_type": "execute_result"
    }
   ],
   "source": [
    "# Load model and tokenizer\n",
    "tokenizer = AutoTokenizer.from_pretrained(MODEL_NAME, trust_remote_code=True)\n",
    "model = AutoModelForCausalLM.from_pretrained(MODEL_NAME, device_map=\"auto\", torch_dtype=torch.float16, trust_remote_code=True)\n",
    "model.eval()"
   ]
  },
  {
   "cell_type": "code",
   "execution_count": 4,
   "metadata": {},
   "outputs": [],
   "source": [
    "# # Evaluation\n",
    "# def evaluate(dataset_name, examples):\n",
    "#     predictions = []\n",
    "#     references = []\n",
    "#     print(f\"Evaluating {dataset_name}...\")\n",
    "#     for ex in examples:\n",
    "#         prompt = f\"Q: {ex['question']}\\nA:\"\n",
    "#         pred = generate_answer(prompt)\n",
    "#         predictions.append(pred.strip())\n",
    "#         references.append(ex[\"answer\"].strip())\n",
    "\n",
    "#     print(\"Computing metrics...\")\n",
    "#     rouge = Rouge()\n",
    "#     rouge_scores = rouge.get_scores(predictions, references, avg=True)\n",
    "#     P, R, F1 = bert_score(predictions, references, lang=\"en\", verbose=True)\n",
    "\n",
    "#     bleu = [sentence_bleu([ref.split()], pred.split(), smoothing_function=SmoothingFunction().method1) for ref, pred in zip(references, predictions)]\n",
    "\n",
    "#     metrics = {\n",
    "#         \"BLEU\": np.mean(bleu),\n",
    "#         \"BERTScore_F1\": F1.mean().item(),\n",
    "#         \"ROUGE-L\": rouge_scores[\"rouge-l\"][\"f\"]\n",
    "#     }\n",
    "#     return metrics"
   ]
  },
  {
   "cell_type": "code",
   "execution_count": 5,
   "metadata": {},
   "outputs": [],
   "source": [
    "import numpy as np\n",
    "from rouge import Rouge\n",
    "from bert_score import score as bert_score\n",
    "from nltk.translate.bleu_score import sentence_bleu, SmoothingFunction\n",
    "from sentence_transformers import SentenceTransformer\n",
    "import faiss\n",
    "import networkx as nx\n",
    "\n",
    "# Инициализация модели для retrieval\n",
    "retriever_model = SentenceTransformer(\"all-MiniLM-L6-v2\")\n",
    "faiss_index = None\n",
    "retrieval_docs = None\n",
    "\n",
    "# --- FAISS Retrieval для RAG ---\n",
    "def build_faiss_index(contexts):\n",
    "    global faiss_index, retrieval_docs\n",
    "    retrieval_docs = contexts\n",
    "    doc_embeddings = retriever_model.encode(contexts, show_progress_bar=True, convert_to_numpy=True)\n",
    "    faiss_index = faiss.IndexFlatL2(doc_embeddings.shape[1])\n",
    "    faiss_index.add(doc_embeddings)\n",
    "\n",
    "def retrieve_context(question, top_k=1):\n",
    "    question_embedding = retriever_model.encode([question], convert_to_numpy=True)\n",
    "    _, indices = faiss_index.search(np.array(question_embedding), top_k)\n",
    "    return \" \".join([retrieval_docs[i] for i in indices[0]])\n",
    "\n",
    "# --- Evaluation ---\n",
    "def evaluate(dataset_name, examples, use_rag=False):\n",
    "    predictions = []\n",
    "    references = []\n",
    "    mode = \"RAG\" if use_rag else \"NoPrep\"\n",
    "    print(f\"Evaluating {dataset_name} ({mode})...\")\n",
    "\n",
    "    if use_rag:\n",
    "        build_faiss_index([ex[\"context\"] for ex in examples])\n",
    "\n",
    "    for ex in examples:\n",
    "        if use_rag:\n",
    "            retrieved = retrieve_context(ex[\"question\"])\n",
    "            prompt = f\"Context: {retrieved}\\nQ: {ex['question']}\\nA:\"\n",
    "        else:\n",
    "            prompt = f\"Q: {ex['question']}\\nA:\"\n",
    "\n",
    "        pred = generate_answer(prompt)\n",
    "        predictions.append(pred.strip())\n",
    "        references.append(ex[\"answer\"].strip())\n",
    "\n",
    "    print(\"Computing metrics...\")\n",
    "    rouge = Rouge()\n",
    "    rouge_scores = rouge.get_scores(predictions, references, avg=True)\n",
    "    P, R, F1 = bert_score(predictions, references, lang=\"en\", verbose=True)\n",
    "    bleu = [sentence_bleu([ref.split()], pred.split(), smoothing_function=SmoothingFunction().method1) for ref, pred in zip(references, predictions)]\n",
    "\n",
    "    metrics = {\n",
    "        \"BLEU\": np.mean(bleu),\n",
    "        \"BERTScore_F1\": F1.mean().item(),\n",
    "        \"ROUGE-L\": rouge_scores[\"rouge-l\"][\"f\"]\n",
    "    }\n",
    "    return metrics"
   ]
  },
  {
   "cell_type": "code",
   "execution_count": 9,
   "metadata": {},
   "outputs": [],
   "source": [
    "import numpy as np\n",
    "from nltk import ngrams\n",
    "from collections import Counter\n",
    "from rouge import Rouge\n",
    "from bert_score import score as bert_score\n",
    "from nltk.translate.bleu_score import sentence_bleu, SmoothingFunction\n",
    "\n",
    "def build_ngram_model(contexts, n=2):\n",
    "    ngram_counts = Counter()\n",
    "    for context in contexts:\n",
    "        tokens = context.lower().split()\n",
    "        ngram_counts.update(ngrams(tokens, n))\n",
    "    total_ngrams = sum(ngram_counts.values())\n",
    "    ngram_probs = {ng: count / total_ngrams for ng, count in ngram_counts.items()}\n",
    "    return ngram_probs\n",
    "\n",
    "def extract_key_phrases(context, ngram_probs, top_k=5):\n",
    "    tokens = context.lower().split()\n",
    "    context_ngrams = list(ngrams(tokens, 2))\n",
    "    scored_phrases = [(ng, ngram_probs.get(ng, 0)) for ng in context_ngrams]\n",
    "    scored_phrases.sort(key=lambda x: x[1], reverse=True)\n",
    "    top_phrases = [' '.join(ng) for ng, _ in scored_phrases[:top_k]]\n",
    "    return top_phrases\n",
    "\n",
    "def evaluate(dataset_name, examples, use_plm=False):\n",
    "    predictions = []\n",
    "    references = []\n",
    "    print(f\"Evaluating {dataset_name} ({'PLM' if use_plm else 'NoPrep'})...\")\n",
    "\n",
    "    if use_plm:\n",
    "        contexts = [ex[\"context\"] for ex in examples]\n",
    "        ngram_probs = build_ngram_model(contexts, n=2)\n",
    "\n",
    "    for ex in examples:\n",
    "        if use_plm:\n",
    "            key_phrases = extract_key_phrases(ex[\"context\"], ngram_probs)\n",
    "            prompt = f\"Key Phrases: {', '.join(key_phrases)}\\nQ: {ex['question']}\\nA:\"\n",
    "        else:\n",
    "            prompt = f\"Q: {ex['question']}\\nA:\"\n",
    "\n",
    "        pred = generate_answer(prompt)\n",
    "        predictions.append(pred.strip())\n",
    "        references.append(ex[\"answer\"].strip())\n",
    "\n",
    "    print(\"Computing metrics...\")\n",
    "    rouge = Rouge()\n",
    "    rouge_scores = rouge.get_scores(predictions, references, avg=True)\n",
    "    P, R, F1 = bert_score(predictions, references, lang=\"en\", verbose=True)\n",
    "    bleu = [sentence_bleu([ref.split()], pred.split(), smoothing_function=SmoothingFunction().method1) for ref, pred in zip(references, predictions)]\n",
    "\n",
    "    metrics = {\n",
    "        \"BLEU\": np.mean(bleu),\n",
    "        \"BERTScore_F1\": F1.mean().item(),\n",
    "        \"ROUGE-L\": rouge_scores[\"rouge-l\"][\"f\"]\n",
    "    }\n",
    "    return metrics\n"
   ]
  },
  {
   "cell_type": "code",
   "execution_count": 14,
   "metadata": {},
   "outputs": [],
   "source": [
    "import numpy as np\n",
    "from rouge import Rouge\n",
    "from bert_score import score as bert_score\n",
    "from nltk.translate.bleu_score import sentence_bleu, SmoothingFunction\n",
    "from sentence_transformers import SentenceTransformer\n",
    "import faiss\n",
    "import networkx as nx\n",
    "import spacy\n",
    "\n",
    "# Инициализация модели для retrieval\n",
    "retriever_model = SentenceTransformer(\"all-MiniLM-L6-v2\")\n",
    "faiss_index = None\n",
    "retrieval_docs = None\n",
    "\n",
    "# Глобальные переменные для GraphRAG\n",
    "knowledge_graph = None\n",
    "nlp = spacy.load(\"en_core_web_sm\")\n",
    "\n",
    "# --- GraphRAG: Build, Retrieve, Convert ---\n",
    "def build_knowledge_graph(contexts):\n",
    "    global knowledge_graph\n",
    "    knowledge_graph = nx.Graph()\n",
    "    for context in contexts:\n",
    "        doc = nlp(context)\n",
    "        entities = [ent.text for ent in doc.ents]\n",
    "        for i in range(len(entities)):\n",
    "            for j in range(i + 1, len(entities)):\n",
    "                knowledge_graph.add_edge(entities[i], entities[j], context=context)\n",
    "\n",
    "def retrieve_relevant_subgraph(graph, question, top_k=5):\n",
    "    doc = nlp(question)\n",
    "    entities = [ent.text for ent in doc.ents if ent.text in graph.nodes()]\n",
    "    subgraph_nodes = set(entities)\n",
    "    for ent in entities:\n",
    "        neighbors = list(graph.neighbors(ent))\n",
    "        subgraph_nodes.update(neighbors[:top_k])\n",
    "    return graph.subgraph(subgraph_nodes)\n",
    "\n",
    "def convert_subgraph_to_text(subgraph):\n",
    "    contexts = set()\n",
    "    for u, v, data in subgraph.edges(data=True):\n",
    "        if \"context\" in data:\n",
    "            contexts.add(data[\"context\"])\n",
    "    return \" \".join(list(contexts))\n",
    "\n",
    "# --- Evaluation ---\n",
    "def evaluate(dataset_name, examples, use_graphrag=False):\n",
    "    predictions = []\n",
    "    references = []\n",
    "    mode = \"GraphRAG\" if use_graphrag else \"NoPrep\"\n",
    "    print(f\"Evaluating {dataset_name} ({mode})...\")\n",
    "\n",
    "    if use_graphrag:\n",
    "        build_knowledge_graph([ex[\"context\"] for ex in examples])\n",
    "\n",
    "    for ex in examples:\n",
    "        if use_graphrag:\n",
    "            subgraph = retrieve_relevant_subgraph(knowledge_graph, ex[\"question\"])\n",
    "            graph_context = convert_subgraph_to_text(subgraph)\n",
    "            prompt = f\"Context: {graph_context}\\nQ: {ex['question']}\\nA:\"\n",
    "        else:\n",
    "            prompt = f\"Q: {ex['question']}\\nA:\"\n",
    "\n",
    "        pred = generate_answer(prompt)\n",
    "        predictions.append(pred.strip())\n",
    "        references.append(ex[\"answer\"].strip())\n",
    "\n",
    "    print(\"Computing metrics...\")\n",
    "    rouge = Rouge()\n",
    "    rouge_scores = rouge.get_scores(predictions, references, avg=True)\n",
    "    P, R, F1 = bert_score(predictions, references, lang=\"en\", verbose=True)\n",
    "    bleu = [sentence_bleu([ref.split()], pred.split(), smoothing_function=SmoothingFunction().method1) for ref, pred in zip(references, predictions)]\n",
    "\n",
    "    metrics = {\n",
    "        \"BLEU\": np.mean(bleu),\n",
    "        \"BERTScore_F1\": F1.mean().item(),\n",
    "        \"ROUGE-L\": rouge_scores[\"rouge-l\"][\"f\"]\n",
    "    }\n",
    "    return metrics"
   ]
  },
  {
   "cell_type": "code",
   "execution_count": 13,
   "metadata": {},
   "outputs": [
    {
     "name": "stderr",
     "output_type": "stream",
     "text": [
      "huggingface/tokenizers: The current process just got forked, after parallelism has already been used. Disabling parallelism to avoid deadlocks...\n",
      "To disable this warning, you can either:\n",
      "\t- Avoid using `tokenizers` before the fork if possible\n",
      "\t- Explicitly set the environment variable TOKENIZERS_PARALLELISM=(true | false)\n"
     ]
    },
    {
     "name": "stdout",
     "output_type": "stream",
     "text": [
      "Collecting en-core-web-sm==3.8.0\n",
      "  Downloading https://github.com/explosion/spacy-models/releases/download/en_core_web_sm-3.8.0/en_core_web_sm-3.8.0-py3-none-any.whl (12.8 MB)\n",
      "\u001b[2K     \u001b[90m━━━━━━━━━━━━━━━━━━━━━━━━━━━━━━━━━━━━━━━━\u001b[0m \u001b[32m12.8/12.8 MB\u001b[0m \u001b[31m35.7 MB/s\u001b[0m eta \u001b[36m0:00:00\u001b[0m00:01\u001b[0m00:01\u001b[0m\n",
      "\u001b[?25hInstalling collected packages: en-core-web-sm\n",
      "Successfully installed en-core-web-sm-3.8.0\n",
      "\n",
      "\u001b[1m[\u001b[0m\u001b[34;49mnotice\u001b[0m\u001b[1;39;49m]\u001b[0m\u001b[39;49m A new release of pip is available: \u001b[0m\u001b[31;49m23.0.1\u001b[0m\u001b[39;49m -> \u001b[0m\u001b[32;49m25.1.1\u001b[0m\n",
      "\u001b[1m[\u001b[0m\u001b[34;49mnotice\u001b[0m\u001b[1;39;49m]\u001b[0m\u001b[39;49m To update, run: \u001b[0m\u001b[32;49mpip install --upgrade pip\u001b[0m\n",
      "\u001b[38;5;2m✔ Download and installation successful\u001b[0m\n",
      "You can now load the package via spacy.load('en_core_web_sm')\n"
     ]
    }
   ],
   "source": [
    "# !python -m spacy download en_core_web_sm\n"
   ]
  },
  {
   "cell_type": "code",
   "execution_count": 17,
   "metadata": {},
   "outputs": [
    {
     "name": "stdout",
     "output_type": "stream",
     "text": [
      "Evaluating squad_v2 (NoPrep)...\n"
     ]
    },
    {
     "name": "stderr",
     "output_type": "stream",
     "text": [
      "/home/kruall/vlad/venv/lib/python3.10/site-packages/transformers/generation/configuration_utils.py:631: UserWarning: `do_sample` is set to `False`. However, `temperature` is set to `0.6` -- this flag is only used in sample-based generation modes. You should set `do_sample=True` or unset `temperature`.\n",
      "  warnings.warn(\n",
      "/home/kruall/vlad/venv/lib/python3.10/site-packages/transformers/generation/configuration_utils.py:636: UserWarning: `do_sample` is set to `False`. However, `top_p` is set to `0.95` -- this flag is only used in sample-based generation modes. You should set `do_sample=True` or unset `top_p`.\n",
      "  warnings.warn(\n",
      "/home/kruall/vlad/venv/lib/python3.10/site-packages/transformers/generation/configuration_utils.py:653: UserWarning: `do_sample` is set to `False`. However, `top_k` is set to `20` -- this flag is only used in sample-based generation modes. You should set `do_sample=True` or unset `top_k`.\n",
      "  warnings.warn(\n"
     ]
    },
    {
     "name": "stdout",
     "output_type": "stream",
     "text": [
      "Computing metrics...\n"
     ]
    },
    {
     "name": "stderr",
     "output_type": "stream",
     "text": [
      "Some weights of RobertaModel were not initialized from the model checkpoint at roberta-large and are newly initialized: ['pooler.dense.bias', 'pooler.dense.weight']\n",
      "You should probably TRAIN this model on a down-stream task to be able to use it for predictions and inference.\n"
     ]
    },
    {
     "name": "stdout",
     "output_type": "stream",
     "text": [
      "calculating scores...\n",
      "computing bert embedding.\n"
     ]
    },
    {
     "data": {
      "application/vnd.jupyter.widget-view+json": {
       "model_id": "b8b14f9a45ef4db19f86cffd5eb86860",
       "version_major": 2,
       "version_minor": 0
      },
      "text/plain": [
       "  0%|          | 0/1 [00:00<?, ?it/s]"
      ]
     },
     "metadata": {},
     "output_type": "display_data"
    },
    {
     "name": "stdout",
     "output_type": "stream",
     "text": [
      "computing greedy matching.\n"
     ]
    },
    {
     "data": {
      "application/vnd.jupyter.widget-view+json": {
       "model_id": "d190ce2af2de49d4b4e7ed5d09cdfba1",
       "version_major": 2,
       "version_minor": 0
      },
      "text/plain": [
       "  0%|          | 0/1 [00:00<?, ?it/s]"
      ]
     },
     "metadata": {},
     "output_type": "display_data"
    },
    {
     "name": "stdout",
     "output_type": "stream",
     "text": [
      "done in 0.37 seconds, 56.75 sentences/sec\n",
      "Evaluating ag_news (NoPrep)...\n",
      "Computing metrics...\n"
     ]
    },
    {
     "name": "stderr",
     "output_type": "stream",
     "text": [
      "Some weights of RobertaModel were not initialized from the model checkpoint at roberta-large and are newly initialized: ['pooler.dense.bias', 'pooler.dense.weight']\n",
      "You should probably TRAIN this model on a down-stream task to be able to use it for predictions and inference.\n"
     ]
    },
    {
     "name": "stdout",
     "output_type": "stream",
     "text": [
      "calculating scores...\n",
      "computing bert embedding.\n"
     ]
    },
    {
     "data": {
      "application/vnd.jupyter.widget-view+json": {
       "model_id": "adee2b01621e4c03be120cf8269546f5",
       "version_major": 2,
       "version_minor": 0
      },
      "text/plain": [
       "  0%|          | 0/1 [00:00<?, ?it/s]"
      ]
     },
     "metadata": {},
     "output_type": "display_data"
    },
    {
     "name": "stdout",
     "output_type": "stream",
     "text": [
      "computing greedy matching.\n"
     ]
    },
    {
     "data": {
      "application/vnd.jupyter.widget-view+json": {
       "model_id": "05461abfc62b4fb688736f39decc7a09",
       "version_major": 2,
       "version_minor": 0
      },
      "text/plain": [
       "  0%|          | 0/1 [00:00<?, ?it/s]"
      ]
     },
     "metadata": {},
     "output_type": "display_data"
    },
    {
     "name": "stdout",
     "output_type": "stream",
     "text": [
      "done in 1.33 seconds, 37.53 sentences/sec\n",
      "Evaluating snli (NoPrep)...\n",
      "Computing metrics...\n"
     ]
    },
    {
     "name": "stderr",
     "output_type": "stream",
     "text": [
      "Some weights of RobertaModel were not initialized from the model checkpoint at roberta-large and are newly initialized: ['pooler.dense.bias', 'pooler.dense.weight']\n",
      "You should probably TRAIN this model on a down-stream task to be able to use it for predictions and inference.\n"
     ]
    },
    {
     "name": "stdout",
     "output_type": "stream",
     "text": [
      "calculating scores...\n",
      "computing bert embedding.\n"
     ]
    },
    {
     "data": {
      "application/vnd.jupyter.widget-view+json": {
       "model_id": "0d0e93636f7d4b729becfbf1c6943584",
       "version_major": 2,
       "version_minor": 0
      },
      "text/plain": [
       "  0%|          | 0/1 [00:00<?, ?it/s]"
      ]
     },
     "metadata": {},
     "output_type": "display_data"
    },
    {
     "name": "stdout",
     "output_type": "stream",
     "text": [
      "computing greedy matching.\n"
     ]
    },
    {
     "data": {
      "application/vnd.jupyter.widget-view+json": {
       "model_id": "5eeeb2b74fcf4c7494ac2c51e905b851",
       "version_major": 2,
       "version_minor": 0
      },
      "text/plain": [
       "  0%|          | 0/1 [00:00<?, ?it/s]"
      ]
     },
     "metadata": {},
     "output_type": "display_data"
    },
    {
     "name": "stdout",
     "output_type": "stream",
     "text": [
      "done in 0.25 seconds, 201.07 sentences/sec\n",
      "Evaluating trec (NoPrep)...\n",
      "Computing metrics...\n"
     ]
    },
    {
     "name": "stderr",
     "output_type": "stream",
     "text": [
      "Some weights of RobertaModel were not initialized from the model checkpoint at roberta-large and are newly initialized: ['pooler.dense.bias', 'pooler.dense.weight']\n",
      "You should probably TRAIN this model on a down-stream task to be able to use it for predictions and inference.\n"
     ]
    },
    {
     "name": "stdout",
     "output_type": "stream",
     "text": [
      "calculating scores...\n",
      "computing bert embedding.\n"
     ]
    },
    {
     "data": {
      "application/vnd.jupyter.widget-view+json": {
       "model_id": "b3f9635cc32f44a8a7796d55e6845abe",
       "version_major": 2,
       "version_minor": 0
      },
      "text/plain": [
       "  0%|          | 0/1 [00:00<?, ?it/s]"
      ]
     },
     "metadata": {},
     "output_type": "display_data"
    },
    {
     "name": "stdout",
     "output_type": "stream",
     "text": [
      "computing greedy matching.\n"
     ]
    },
    {
     "data": {
      "application/vnd.jupyter.widget-view+json": {
       "model_id": "a78017e712ae45f3830be64ca7debf99",
       "version_major": 2,
       "version_minor": 0
      },
      "text/plain": [
       "  0%|          | 0/1 [00:00<?, ?it/s]"
      ]
     },
     "metadata": {},
     "output_type": "display_data"
    },
    {
     "name": "stdout",
     "output_type": "stream",
     "text": [
      "done in 0.45 seconds, 110.40 sentences/sec\n",
      "Evaluating wmt14 (NoPrep)...\n",
      "Computing metrics...\n"
     ]
    },
    {
     "name": "stderr",
     "output_type": "stream",
     "text": [
      "Some weights of RobertaModel were not initialized from the model checkpoint at roberta-large and are newly initialized: ['pooler.dense.bias', 'pooler.dense.weight']\n",
      "You should probably TRAIN this model on a down-stream task to be able to use it for predictions and inference.\n"
     ]
    },
    {
     "name": "stdout",
     "output_type": "stream",
     "text": [
      "calculating scores...\n",
      "computing bert embedding.\n"
     ]
    },
    {
     "data": {
      "application/vnd.jupyter.widget-view+json": {
       "model_id": "2eb87d94fe5a404ab27666e363bc97f8",
       "version_major": 2,
       "version_minor": 0
      },
      "text/plain": [
       "  0%|          | 0/2 [00:00<?, ?it/s]"
      ]
     },
     "metadata": {},
     "output_type": "display_data"
    },
    {
     "name": "stdout",
     "output_type": "stream",
     "text": [
      "computing greedy matching.\n"
     ]
    },
    {
     "data": {
      "application/vnd.jupyter.widget-view+json": {
       "model_id": "9b58852c58534c48978d77d202198951",
       "version_major": 2,
       "version_minor": 0
      },
      "text/plain": [
       "  0%|          | 0/1 [00:00<?, ?it/s]"
      ]
     },
     "metadata": {},
     "output_type": "display_data"
    },
    {
     "name": "stdout",
     "output_type": "stream",
     "text": [
      "done in 1.57 seconds, 31.88 sentences/sec\n"
     ]
    },
    {
     "data": {
      "image/png": "[encoded data removed]",
      "text/plain": [
       "<Figure size 600x400 with 1 Axes>"
      ]
     },
     "metadata": {},
     "output_type": "display_data"
    },
    {
     "data": {
      "image/png": "[encoded data removed]",
      "text/plain": [
       "<Figure size 600x400 with 1 Axes>"
      ]
     },
     "metadata": {},
     "output_type": "display_data"
    },
    {
     "data": {
      "image/png": "[encoded data removed]",
      "text/plain": [
       "<Figure size 600x400 with 1 Axes>"
      ]
     },
     "metadata": {},
     "output_type": "display_data"
    },
    {
     "data": {
      "image/png": "[encoded data removed]",
      "text/plain": [
       "<Figure size 600x400 with 1 Axes>"
      ]
     },
     "metadata": {},
     "output_type": "display_data"
    },
    {
     "data": {
      "image/png": "[encoded data removed]",
      "text/plain": [
       "<Figure size 600x400 with 1 Axes>"
      ]
     },
     "metadata": {},
     "output_type": "display_data"
    }
   ],
   "source": [
    "# Inference function\n",
    "def generate_answer(prompt):\n",
    "    inputs = tokenizer(prompt, return_tensors=\"pt\").to(model.device)\n",
    "    with torch.no_grad():\n",
    "        output = model.generate(**inputs, max_new_tokens=64, do_sample=False)\n",
    "    return tokenizer.decode(output[0], skip_special_tokens=True)\n",
    "\n",
    "# Plotting\n",
    "def plot_metrics(metrics_by_dataset):\n",
    "    for ds, metrics in metrics_by_dataset.items():\n",
    "        plt.figure(figsize=(6, 4))\n",
    "        plt.bar(metrics.keys(), metrics.values())\n",
    "        plt.title(f\"Evaluation Metrics for {ds}\")\n",
    "        plt.ylabel(\"Score\")\n",
    "        plt.ylim(0, 1)\n",
    "        plt.grid(True, axis='y', linestyle='--', alpha=0.6)\n",
    "        plt.tight_layout()\n",
    "        plt.savefig(f\"metrics_{ds}.png\")\n",
    "        plt.show()\n",
    "\n",
    "# Main loop\n",
    "all_metrics = {}\n",
    "for name, examples in unified_data.items():\n",
    "    all_metrics[name] = evaluate(name, examples, False)\n",
    "\n",
    "plot_metrics(all_metrics)"
   ]
  },
  {
   "cell_type": "code",
   "execution_count": 18,
   "metadata": {},
   "outputs": [
    {
     "data": {
      "text/plain": [
       "{'squad_v2': {'BLEU': np.float64(0.0026580094974490843),\n",
       "  'BERTScore_F1': 0.7936113476753235,\n",
       "  'ROUGE-L': 0.03820277521473227},\n",
       " 'ag_news': {'BLEU': np.float64(7.267720807102807e-05),\n",
       "  'BERTScore_F1': 0.7917486429214478,\n",
       "  'ROUGE-L': 0.0015762273746301586},\n",
       " 'snli': {'BLEU': np.float64(4.311376331751697e-05),\n",
       "  'BERTScore_F1': 0.7951542735099792,\n",
       "  'ROUGE-L': 0.0015094339474546106},\n",
       " 'trec': {'BLEU': np.float64(0.0),\n",
       "  'BERTScore_F1': 0.7898566722869873,\n",
       "  'ROUGE-L': 0.0017391304181474485},\n",
       " 'wmt14': {'BLEU': np.float64(0.01257984520473268),\n",
       "  'BERTScore_F1': 0.8160936236381531,\n",
       "  'ROUGE-L': 0.09770226539667456}}"
      ]
     },
     "execution_count": 18,
     "metadata": {},
     "output_type": "execute_result"
    }
   ],
   "source": [
    "all_metrics"
   ]
  },
  {
   "cell_type": "code",
   "execution_count": null,
   "metadata": {},
   "outputs": [],
   "source": []
  }
 ],
 "metadata": {
  "kernelspec": {
   "display_name": "venv",
   "language": "python",
   "name": "python3"
  },
  "language_info": {
   "codemirror_mode": {
    "name": "ipython",
    "version": 3
   },
   "file_extension": ".py",
   "mimetype": "text/x-python",
   "name": "python",
   "nbconvert_exporter": "python",
   "pygments_lexer": "ipython3",
   "version": "3.10.17"
  }
 },
 "nbformat": 4,
 "nbformat_minor": 2
}
